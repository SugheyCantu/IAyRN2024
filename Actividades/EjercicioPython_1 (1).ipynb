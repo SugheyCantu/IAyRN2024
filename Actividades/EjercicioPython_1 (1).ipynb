{
  "nbformat": 4,
  "nbformat_minor": 0,
  "metadata": {
    "colab": {
      "provenance": []
    },
    "kernelspec": {
      "name": "python3",
      "display_name": "Python 3"
    },
    "language_info": {
      "name": "python"
    }
  },
  "cells": [
    {
      "cell_type": "markdown",
      "source": [
        "PROGRAMA 1"
      ],
      "metadata": {
        "id": "SWu4EFdsJnfC"
      }
    },
    {
      "cell_type": "code",
      "execution_count": 14,
      "metadata": {
        "colab": {
          "base_uri": "https://localhost:8080/"
        },
        "id": "SobDLFEg7_9B",
        "outputId": "0a69e832-7a61-4202-c95c-676a04efa173"
      },
      "outputs": [
        {
          "output_type": "stream",
          "name": "stdout",
          "text": [
            "Introduce tu nombre: Sughey\n",
            "Hola, Sughey!\n"
          ]
        }
      ],
      "source": [
        "def saludar_usuario():\n",
        "    # Pedir al usuario su nombre\n",
        "    nombre = input(\"Introduce tu nombre: \")\n",
        "\n",
        "    # Verificar si el nombre está en la lista de excepciones\n",
        "    if nombre not in [\"Ana\", \"Juan\", \"Pedro\"]:\n",
        "\n",
        "        print(\"Hola,\", nombre + \"!\")\n",
        "\n",
        "# Llamar a la función para ejecutar el programa\n",
        "saludar_usuario()"
      ]
    },
    {
      "cell_type": "markdown",
      "source": [
        "PROGRAMA 2"
      ],
      "metadata": {
        "id": "tuTUhhnbK406"
      }
    },
    {
      "cell_type": "code",
      "source": [
        "def invertir_lista():\n",
        "    lista = [input(f\"Ingrese el elemento {i + 1}: \") for i in range(int(input(\"Ingrese el número de elementos de la lista: \")))]\n",
        "    print(\"La lista invertida es:\", lista[::-1])\n",
        "\n",
        "invertir_lista()"
      ],
      "metadata": {
        "colab": {
          "base_uri": "https://localhost:8080/"
        },
        "id": "HkOMF_z09TPZ",
        "outputId": "762be2e1-da52-4512-bf4a-6b986cd62b42"
      },
      "execution_count": 15,
      "outputs": [
        {
          "output_type": "stream",
          "name": "stdout",
          "text": [
            "Ingrese el número de elementos de la lista: 5\n",
            "Ingrese el elemento 1: casa\n",
            "Ingrese el elemento 2: mesa\n",
            "Ingrese el elemento 3: auto\n",
            "Ingrese el elemento 4: sillón\n",
            "Ingrese el elemento 5: ventana\n",
            "La lista invertida es: ['ventana', 'sillón', 'auto', 'mesa', 'casa']\n"
          ]
        }
      ]
    },
    {
      "cell_type": "markdown",
      "source": [
        "PROGRAMA 3"
      ],
      "metadata": {
        "id": "6RrLoHe6K7cl"
      }
    },
    {
      "cell_type": "code",
      "source": [
        "def fibonacci(n):\n",
        "    fib_series = [0, 1]\n",
        "    for _ in range(2, n):\n",
        "        fib_series.append(fib_series[-1] + fib_series[-2])\n",
        "    return fib_series\n",
        "\n",
        "def main():\n",
        "    series = fibonacci(int(input(\"Ingrese la cantidad de números de la serie de Fibonacci que desea generar: \")))\n",
        "    print(\"La serie de Fibonacci es:\", series)\n",
        "\n",
        "main()"
      ],
      "metadata": {
        "colab": {
          "base_uri": "https://localhost:8080/"
        },
        "id": "D6UOVgwv-0Bp",
        "outputId": "0f6360bd-8073-4329-d962-1285c37b7648"
      },
      "execution_count": 17,
      "outputs": [
        {
          "output_type": "stream",
          "name": "stdout",
          "text": [
            "Ingrese la cantidad de números de la serie de Fibonacci que desea generar: 6\n",
            "La serie de Fibonacci es: [0, 1, 1, 2, 3, 5]\n"
          ]
        }
      ]
    },
    {
      "cell_type": "markdown",
      "source": [
        "PROGRAMA 4"
      ],
      "metadata": {
        "id": "yzYwrbA6LhIJ"
      }
    },
    {
      "cell_type": "code",
      "source": [
        "import random\n",
        "\n",
        "def juego_adivinar_numero():\n",
        "    numero_objetivo = random.randint(1, 100)  # Generar un número aleatorio entre 1 y 100\n",
        "    intentos = 0\n",
        "\n",
        "    print(\"¡Bienvenido al juego de adivinar el número!\")\n",
        "\n",
        "    while True:\n",
        "        intento = int(input(\"Introduce tu intento (un número entre 1 y 100): \"))\n",
        "        intentos += 1\n",
        "\n",
        "        if intento < numero_objetivo:\n",
        "            print(\"El número objetivo es mayor que tu intento. ¡Sigue intentando!\")\n",
        "        elif intento > numero_objetivo:\n",
        "            print(\"El número objetivo es menor que tu intento. ¡Sigue intentando!\")\n",
        "        else:\n",
        "            print(f\"Felicidades, has adivinado el número objetivo ({numero_objetivo}) en {intentos} intentos.\")\n",
        "            break\n",
        "\n",
        "# Llamar a la función para iniciar el juego\n",
        "juego_adivinar_numero()"
      ],
      "metadata": {
        "colab": {
          "base_uri": "https://localhost:8080/"
        },
        "id": "u45Akabd_iPy",
        "outputId": "6263b6cf-b861-41b4-c07b-b3a1bdaa7e96"
      },
      "execution_count": 8,
      "outputs": [
        {
          "output_type": "stream",
          "name": "stdout",
          "text": [
            "¡Bienvenido al juego de adivinar el número!\n",
            "Introduce tu intento (un número entre 1 y 100): 65\n",
            "El número objetivo es menor que tu intento. ¡Sigue intentando!\n",
            "Introduce tu intento (un número entre 1 y 100): 40\n",
            "El número objetivo es mayor que tu intento. ¡Sigue intentando!\n",
            "Introduce tu intento (un número entre 1 y 100): 56\n",
            "El número objetivo es mayor que tu intento. ¡Sigue intentando!\n",
            "Introduce tu intento (un número entre 1 y 100): 60\n",
            "El número objetivo es menor que tu intento. ¡Sigue intentando!\n",
            "Introduce tu intento (un número entre 1 y 100): 57\n",
            "Felicidades, has adivinado el número objetivo (57) en 5 intentos.\n"
          ]
        }
      ]
    },
    {
      "cell_type": "markdown",
      "source": [
        "PROGRAMA 5\n"
      ],
      "metadata": {
        "id": "cR_QmuPSLkc3"
      }
    },
    {
      "cell_type": "code",
      "source": [
        "def es_primo(numero):\n",
        "    if numero <= 1:\n",
        "        return False\n",
        "    elif numero <= 3:\n",
        "        return True\n",
        "    elif numero % 2 == 0 or numero % 3 == 0:\n",
        "        return False\n",
        "    i = 5\n",
        "    while i * i <= numero:\n",
        "        if numero % i == 0 or numero % (i + 2) == 0:\n",
        "            return False\n",
        "        i += 6\n",
        "    return True\n",
        "\n",
        "def numeros_primos_en_rango(inicio, fin):\n",
        "    primos = []\n",
        "    for numero in range(inicio, fin + 1):\n",
        "        if es_primo(numero):\n",
        "            primos.append(numero)\n",
        "    return primos\n",
        "\n",
        "def main():\n",
        "    inicio = int(input(\"Ingrese el inicio del rango: \"))\n",
        "    fin = int(input(\"Ingrese el fin del rango: \"))\n",
        "\n",
        "    print(f\"Los números primos en el rango de {inicio} a {fin} son:\")\n",
        "    primos_en_rango = numeros_primos_en_rango(inicio, fin)\n",
        "    print(primos_en_rango)\n",
        "\n",
        "# Llamar a la función principal\n",
        "main()"
      ],
      "metadata": {
        "colab": {
          "base_uri": "https://localhost:8080/"
        },
        "id": "oi10AvJpAGvo",
        "outputId": "3ad28234-d9e5-43af-e2e1-097d207d0eee"
      },
      "execution_count": 9,
      "outputs": [
        {
          "output_type": "stream",
          "name": "stdout",
          "text": [
            "Ingrese el inicio del rango: 6\n",
            "Ingrese el fin del rango: 68\n",
            "Los números primos en el rango de 6 a 68 son:\n",
            "[7, 11, 13, 17, 19, 23, 29, 31, 37, 41, 43, 47, 53, 59, 61, 67]\n"
          ]
        }
      ]
    },
    {
      "cell_type": "markdown",
      "source": [
        "PROGRAMA 6"
      ],
      "metadata": {
        "id": "Of0JVHV0Loqt"
      }
    },
    {
      "cell_type": "code",
      "source": [
        "def suma(a, b):\n",
        "    return a + b\n",
        "\n",
        "def resta(a, b):\n",
        "    return a - b\n",
        "\n",
        "def multiplicacion(a, b):\n",
        "    return a * b\n",
        "\n",
        "def division(a, b):\n",
        "    return a / b if b != 0 else \"Error: No se puede dividir entre cero.\"\n",
        "\n",
        "def main():\n",
        "    num1, num2 = float(input(\"Ingrese el primer número: \")), float(input(\"Ingrese el segundo número: \"))\n",
        "    print(\"\\nSeleccione la operación que desea realizar:\\n1. Suma\\n2. Resta\\n3. Multiplicación\\n4. División\")\n",
        "    opcion = input(\"Ingrese el número de la operación deseada (1/2/3/4): \")\n",
        "    opciones = {'1': suma, '2': resta, '3': multiplicacion, '4': division}\n",
        "    if opcion in opciones:\n",
        "        resultado = opciones[opcion](num1, num2)\n",
        "        print(f\"El resultado es: {resultado}\")\n",
        "    else:\n",
        "        print(\"Opción inválida. Por favor, ingrese un número válido (1/2/3/4).\")\n",
        "\n",
        "main()"
      ],
      "metadata": {
        "colab": {
          "base_uri": "https://localhost:8080/"
        },
        "id": "qern9ppDAZPt",
        "outputId": "e144860b-7d13-4d32-d830-dad3682d908d"
      },
      "execution_count": 18,
      "outputs": [
        {
          "output_type": "stream",
          "name": "stdout",
          "text": [
            "Ingrese el primer número: 6\n",
            "Ingrese el segundo número: 0\n",
            "\n",
            "Seleccione la operación que desea realizar:\n",
            "1. Suma\n",
            "2. Resta\n",
            "3. Multiplicación\n",
            "4. División\n",
            "Ingrese el número de la operación deseada (1/2/3/4): 1\n",
            "El resultado es: 6.0\n"
          ]
        }
      ]
    }
  ]
}