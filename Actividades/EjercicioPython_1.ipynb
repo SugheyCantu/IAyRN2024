{
  "nbformat": 4,
  "nbformat_minor": 0,
  "metadata": {
    "colab": {
      "provenance": []
    },
    "kernelspec": {
      "name": "python3",
      "display_name": "Python 3"
    },
    "language_info": {
      "name": "python"
    }
  },
  "cells": [
    {
      "cell_type": "code",
      "execution_count": 3,
      "metadata": {
        "colab": {
          "base_uri": "https://localhost:8080/"
        },
        "id": "SobDLFEg7_9B",
        "outputId": "e94cc0be-1906-460a-ad07-314fc03d767a"
      },
      "outputs": [
        {
          "output_type": "stream",
          "name": "stdout",
          "text": [
            "Introduce tu nombre: ana\n",
            "¡Bienvenido!\n"
          ]
        }
      ],
      "source": [
        "def saludar_usuario():\n",
        "    # Pedir al usuario su nombre\n",
        "    nombre = input(\"Introduce tu nombre: \")\n",
        "\n",
        "    # Verificar si el nombre está en la lista de excepciones\n",
        "    if nombre.lower() in [\"ana\", \"juan\", \"pedro\"]:\n",
        "        print(\"¡Bienvenido!\")\n",
        "    else:\n",
        "        print(\"Hola,\", nombre + \"!\")\n",
        "\n",
        "# Llamar a la función para ejecutar el programa\n",
        "saludar_usuario()"
      ]
    },
    {
      "cell_type": "code",
      "source": [
        "def invertir_lista():\n",
        "    # Solicitar al usuario el número de elementos de la lista\n",
        "    n = int(input(\"Ingrese el número de elementos de la lista: \"))\n",
        "\n",
        "    # Solicitar al usuario los elementos de la lista\n",
        "    lista = []\n",
        "    for i in range(n):\n",
        "        elemento = input(f\"Ingrese el elemento {i + 1}: \")\n",
        "        lista.append(elemento)\n",
        "\n",
        "    # Invertir la lista\n",
        "    lista_invertida = lista[::-1]\n",
        "\n",
        "    # Mostrar la lista invertida\n",
        "    print(\"La lista invertida es:\", lista_invertida)\n",
        "\n",
        "# Llamar a la función para ejecutarla\n",
        "invertir_lista()"
      ],
      "metadata": {
        "colab": {
          "base_uri": "https://localhost:8080/"
        },
        "id": "HkOMF_z09TPZ",
        "outputId": "0f015036-fbd1-41e4-db88-5c37fbfac103"
      },
      "execution_count": 6,
      "outputs": [
        {
          "output_type": "stream",
          "name": "stdout",
          "text": [
            "Ingrese el número de elementos de la lista: 5\n",
            "Ingrese el elemento 1: cas\n",
            "Ingrese el elemento 2: carro\n",
            "Ingrese el elemento 3: parque\n",
            "Ingrese el elemento 4: ojo\n",
            "Ingrese el elemento 5: boca\n",
            "La lista invertida es: ['boca', 'ojo', 'parque', 'carro', 'cas']\n"
          ]
        }
      ]
    },
    {
      "cell_type": "code",
      "source": [
        "def fibonacci(n):\n",
        "    fibonacci_series = [0, 1]  # Iniciamos con los dos primeros números de la serie\n",
        "\n",
        "    for i in range(2, n):\n",
        "        next_number = fibonacci_series[-1] + fibonacci_series[-2]  # Calculamos el siguiente número de Fibonacci\n",
        "        fibonacci_series.append(next_number)  # Añadimos el siguiente número a la serie\n",
        "\n",
        "    return fibonacci_series\n",
        "\n",
        "def main():\n",
        "    # Solicitar al usuario cuántos números de la serie de Fibonacci desea generar\n",
        "    cantidad = int(input(\"Ingrese la cantidad de números de la serie de Fibonacci que desea generar: \"))\n",
        "\n",
        "    # Generar la serie de Fibonacci\n",
        "    serie_fibonacci = fibonacci(cantidad)\n",
        "\n",
        "    # Imprimir la serie de Fibonacci\n",
        "    print(\"La serie de Fibonacci es:\", serie_fibonacci)\n",
        "\n",
        "# Llamar a la función principal\n",
        "main()"
      ],
      "metadata": {
        "colab": {
          "base_uri": "https://localhost:8080/"
        },
        "id": "D6UOVgwv-0Bp",
        "outputId": "53b77d2c-923a-4fd8-9596-441b4a11d16f"
      },
      "execution_count": 7,
      "outputs": [
        {
          "output_type": "stream",
          "name": "stdout",
          "text": [
            "Ingrese la cantidad de números de la serie de Fibonacci que desea generar: 10\n",
            "La serie de Fibonacci es: [0, 1, 1, 2, 3, 5, 8, 13, 21, 34]\n"
          ]
        }
      ]
    },
    {
      "cell_type": "code",
      "source": [
        "import random\n",
        "\n",
        "def juego_adivinar_numero():\n",
        "    numero_objetivo = random.randint(1, 100)  # Generar un número aleatorio entre 1 y 100\n",
        "    intentos = 0\n",
        "\n",
        "    print(\"¡Bienvenido al juego de adivinar el número!\")\n",
        "\n",
        "    while True:\n",
        "        intento = int(input(\"Introduce tu intento (un número entre 1 y 100): \"))\n",
        "        intentos += 1\n",
        "\n",
        "        if intento < numero_objetivo:\n",
        "            print(\"El número objetivo es mayor que tu intento. ¡Sigue intentando!\")\n",
        "        elif intento > numero_objetivo:\n",
        "            print(\"El número objetivo es menor que tu intento. ¡Sigue intentando!\")\n",
        "        else:\n",
        "            print(f\"Felicidades, has adivinado el número objetivo ({numero_objetivo}) en {intentos} intentos.\")\n",
        "            break\n",
        "\n",
        "# Llamar a la función para iniciar el juego\n",
        "juego_adivinar_numero()"
      ],
      "metadata": {
        "colab": {
          "base_uri": "https://localhost:8080/"
        },
        "id": "u45Akabd_iPy",
        "outputId": "6263b6cf-b861-41b4-c07b-b3a1bdaa7e96"
      },
      "execution_count": 8,
      "outputs": [
        {
          "output_type": "stream",
          "name": "stdout",
          "text": [
            "¡Bienvenido al juego de adivinar el número!\n",
            "Introduce tu intento (un número entre 1 y 100): 65\n",
            "El número objetivo es menor que tu intento. ¡Sigue intentando!\n",
            "Introduce tu intento (un número entre 1 y 100): 40\n",
            "El número objetivo es mayor que tu intento. ¡Sigue intentando!\n",
            "Introduce tu intento (un número entre 1 y 100): 56\n",
            "El número objetivo es mayor que tu intento. ¡Sigue intentando!\n",
            "Introduce tu intento (un número entre 1 y 100): 60\n",
            "El número objetivo es menor que tu intento. ¡Sigue intentando!\n",
            "Introduce tu intento (un número entre 1 y 100): 57\n",
            "Felicidades, has adivinado el número objetivo (57) en 5 intentos.\n"
          ]
        }
      ]
    },
    {
      "cell_type": "code",
      "source": [
        "def es_primo(numero):\n",
        "    if numero <= 1:\n",
        "        return False\n",
        "    elif numero <= 3:\n",
        "        return True\n",
        "    elif numero % 2 == 0 or numero % 3 == 0:\n",
        "        return False\n",
        "    i = 5\n",
        "    while i * i <= numero:\n",
        "        if numero % i == 0 or numero % (i + 2) == 0:\n",
        "            return False\n",
        "        i += 6\n",
        "    return True\n",
        "\n",
        "def numeros_primos_en_rango(inicio, fin):\n",
        "    primos = []\n",
        "    for numero in range(inicio, fin + 1):\n",
        "        if es_primo(numero):\n",
        "            primos.append(numero)\n",
        "    return primos\n",
        "\n",
        "def main():\n",
        "    inicio = int(input(\"Ingrese el inicio del rango: \"))\n",
        "    fin = int(input(\"Ingrese el fin del rango: \"))\n",
        "\n",
        "    print(f\"Los números primos en el rango de {inicio} a {fin} son:\")\n",
        "    primos_en_rango = numeros_primos_en_rango(inicio, fin)\n",
        "    print(primos_en_rango)\n",
        "\n",
        "# Llamar a la función principal\n",
        "main()"
      ],
      "metadata": {
        "colab": {
          "base_uri": "https://localhost:8080/"
        },
        "id": "oi10AvJpAGvo",
        "outputId": "3ad28234-d9e5-43af-e2e1-097d207d0eee"
      },
      "execution_count": 9,
      "outputs": [
        {
          "output_type": "stream",
          "name": "stdout",
          "text": [
            "Ingrese el inicio del rango: 6\n",
            "Ingrese el fin del rango: 68\n",
            "Los números primos en el rango de 6 a 68 son:\n",
            "[7, 11, 13, 17, 19, 23, 29, 31, 37, 41, 43, 47, 53, 59, 61, 67]\n"
          ]
        }
      ]
    },
    {
      "cell_type": "code",
      "source": [
        "def suma(a, b):\n",
        "    return a + b\n",
        "\n",
        "def resta(a, b):\n",
        "    return a - b\n",
        "\n",
        "def multiplicacion(a, b):\n",
        "    return a * b\n",
        "\n",
        "def division(a, b):\n",
        "    if b != 0:\n",
        "        return a / b\n",
        "    else:\n",
        "        return \"Error: No se puede dividir entre cero.\"\n",
        "\n",
        "def main():\n",
        "    # Solicitar al usuario los dos números\n",
        "    num1 = float(input(\"Ingrese el primer número: \"))\n",
        "    num2 = float(input(\"Ingrese el segundo número: \"))\n",
        "\n",
        "    # Mostrar las opciones de operaciones\n",
        "    print(\"\\nSeleccione la operación que desea realizar:\")\n",
        "    print(\"1. Suma\")\n",
        "    print(\"2. Resta\")\n",
        "    print(\"3. Multiplicación\")\n",
        "    print(\"4. División\")\n",
        "\n",
        "    opcion = input(\"Ingrese el número de la operación deseada (1/2/3/4): \")\n",
        "\n",
        "    if opcion == '1':\n",
        "        resultado = suma(num1, num2)\n",
        "        print(\"La suma es:\", resultado)\n",
        "    elif opcion == '2':\n",
        "        resultado = resta(num1, num2)\n",
        "        print(\"La resta es:\", resultado)\n",
        "    elif opcion == '3':\n",
        "        resultado = multiplicacion(num1, num2)\n",
        "        print(\"La multiplicación es:\", resultado)\n",
        "    elif opcion == '4':\n",
        "        resultado = division(num1, num2)\n",
        "        print(\"La división es:\", resultado)\n",
        "    else:\n",
        "        print(\"Opción inválida. Por favor, ingrese un número válido (1/2/3/4).\")\n",
        "\n",
        "# Llamar a la función principal\n",
        "main()"
      ],
      "metadata": {
        "colab": {
          "base_uri": "https://localhost:8080/"
        },
        "id": "qern9ppDAZPt",
        "outputId": "48a9abc4-7161-49c9-a9bc-dd2c7203b2e7"
      },
      "execution_count": 10,
      "outputs": [
        {
          "output_type": "stream",
          "name": "stdout",
          "text": [
            "Ingrese el primer número: 3\n",
            "Ingrese el segundo número: 8\n",
            "\n",
            "Seleccione la operación que desea realizar:\n",
            "1. Suma\n",
            "2. Resta\n",
            "3. Multiplicación\n",
            "4. División\n",
            "Ingrese el número de la operación deseada (1/2/3/4): 3\n",
            "La multiplicación es: 24.0\n"
          ]
        }
      ]
    }
  ]
}